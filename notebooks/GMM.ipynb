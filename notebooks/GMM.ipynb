{
 "cells": [
  {
   "cell_type": "markdown",
   "id": "facea632",
   "metadata": {},
   "source": [
    "# Projeto - PIM"
   ]
  },
  {
   "cell_type": "code",
   "execution_count": 1,
   "id": "c8501b5a",
   "metadata": {},
   "outputs": [
    {
     "ename": "TypeError",
     "evalue": "chdir() missing required argument 'path' (pos 1)",
     "output_type": "error",
     "traceback": [
      "\u001b[0;31m---------------------------------------------------------------------------\u001b[0m",
      "\u001b[0;31mTypeError\u001b[0m                                 Traceback (most recent call last)",
      "\u001b[0;32m<ipython-input-1-67b34cef0570>\u001b[0m in \u001b[0;36m<module>\u001b[0;34m\u001b[0m\n\u001b[1;32m      5\u001b[0m \u001b[0;32mimport\u001b[0m \u001b[0mos\u001b[0m\u001b[0;34m\u001b[0m\u001b[0;34m\u001b[0m\u001b[0m\n\u001b[1;32m      6\u001b[0m \u001b[0;34m\u001b[0m\u001b[0m\n\u001b[0;32m----> 7\u001b[0;31m \u001b[0mos\u001b[0m\u001b[0;34m.\u001b[0m\u001b[0mchdir\u001b[0m\u001b[0;34m(\u001b[0m\u001b[0;34m)\u001b[0m\u001b[0;34m\u001b[0m\u001b[0;34m\u001b[0m\u001b[0m\n\u001b[0m\u001b[1;32m      8\u001b[0m \u001b[0;34m\u001b[0m\u001b[0m\n\u001b[1;32m      9\u001b[0m \u001b[0mimg_name\u001b[0m \u001b[0;34m=\u001b[0m \u001b[0;34m'Y3.jpeg'\u001b[0m\u001b[0;34m\u001b[0m\u001b[0;34m\u001b[0m\u001b[0m\n",
      "\u001b[0;31mTypeError\u001b[0m: chdir() missing required argument 'path' (pos 1)"
     ]
    }
   ],
   "source": [
    "from PIL import Image\n",
    "import numpy as np\n",
    "import matplotlib.pyplot as plt\n",
    "from sklearn import mixture\n",
    "import os\n",
    "\n",
    "os.chdir()\n",
    "\n",
    "img_name = 'Y3.jpeg'\n",
    "\n",
    "# Abrir Imagem\n",
    "im = Image.open(img_name)\n",
    "data = np.asarray(im)\n",
    "\n",
    "width, height = im.size\n",
    "\n",
    "#histograma\n",
    "num, bins, patches = plt.hist(data.flatten(), 255, density=True, facecolor='g', alpha=0.75)"
   ]
  },
  {
   "cell_type": "code",
   "execution_count": null,
   "id": "ed6e7492",
   "metadata": {},
   "outputs": [],
   "source": [
    "lowest_bic = np.infty\n",
    "bic = []\n",
    "bestcompo = []\n",
    "bestcv = []\n",
    "\n",
    "n_components_range = range(1, 7)\n",
    "cv_types = ['spherical', 'tied', 'diag', 'full']\n",
    "\n",
    "s = num.reshape(-1,1)\n",
    "for n_component in n_components_range:\n",
    "    for cv_type in cv_types:\n",
    "        # Fit a mixture of Gaussians with EM\n",
    "        gmm = mixture.GaussianMixture(n_components=n_component, covariance_type=cv_type)\n",
    "        gmm.fit(s)\n",
    "        bic.append(gmm.bic(s))\n",
    "        if bic[-1] < lowest_bic:\n",
    "            lowest_bic = bic[-1]\n",
    "            best_cv=cv_type\n",
    "            best_ncompo = n_component\n",
    "            best_gmm = gmm\n"
   ]
  },
  {
   "cell_type": "code",
   "execution_count": null,
   "id": "c6b1ea0d",
   "metadata": {},
   "outputs": [],
   "source": [
    "import scipy.stats as stats\n",
    "\n",
    "weights = best_gmm.weights_\n",
    "means = best_gmm.means_\n",
    "covars = best_gmm.covariances_\n",
    "\n",
    "data_gmm = []\n",
    "\n",
    "if best_cv == \"spherical\":\n",
    "    for i in range(best_ncompo):\n",
    "        data_gmm.append([num*weights[i]*stats.norm.pdf(num,means[i],np.sqrt(covars[i]))])\n",
    "else:\n",
    "    for i in range(best_ncompo):\n",
    "        data_gmm.append([num*weights[i]*stats.norm.pdf(num,means[i],np.sqrt(covars[i][0]))])\n",
    "\n",
    "data_gmm = np.array(data_gmm).reshape(best_ncompo,255)"
   ]
  },
  {
   "cell_type": "code",
   "execution_count": null,
   "id": "64b76afe",
   "metadata": {},
   "outputs": [],
   "source": [
    "def create_mask(data_gmm):\n",
    "    mask = []\n",
    "    for i in range(data_gmm.shape[1]):\n",
    "        max_data = 0\n",
    "        x = []\n",
    "        for j in range(data_gmm.shape[0]):\n",
    "            if data_gmm[j][i] > max_data:\n",
    "                k = j\n",
    "                max_data = data_gmm[j][i]\n",
    "        \n",
    "        mask.append(k)\n",
    "\n",
    "    return mask\n",
    "\n",
    "mask = create_mask(data_gmm)\n",
    "\n",
    "ind, = np.where(np.array(mask) == 0)"
   ]
  },
  {
   "cell_type": "code",
   "execution_count": null,
   "id": "4ead0305",
   "metadata": {},
   "outputs": [],
   "source": [
    "new_image = Image.new(mode = \"L\", size = (width,height), color = 255)\n",
    "\n",
    "for i in range(height):\n",
    "    for j in range(width):\n",
    "        for k in range(len(ind)):\n",
    "            if data[i][j][0] == ind[k]:\n",
    "                new_image.putpixel((j, i),0)\n",
    "                                   \n",
    "new_image\n",
    "\n",
    "new_image.save(\"im\"+str(n)+\"_tumor.jpeg\", 'jpeg')"
   ]
  }
 ],
 "metadata": {
  "kernelspec": {
   "display_name": "Python 3",
   "language": "python",
   "name": "python3"
  },
  "language_info": {
   "codemirror_mode": {
    "name": "ipython",
    "version": 3
   },
   "file_extension": ".py",
   "mimetype": "text/x-python",
   "name": "python",
   "nbconvert_exporter": "python",
   "pygments_lexer": "ipython3",
   "version": "3.8.8"
  }
 },
 "nbformat": 4,
 "nbformat_minor": 5
}
