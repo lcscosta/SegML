{
 "cells": [
  {
   "cell_type": "code",
   "execution_count": null,
   "metadata": {},
   "outputs": [],
   "source": [
    "# Importar bibliotecas\n",
    "import PIL\n",
    "from PIL import Image\n",
    "from matplotlib import image\n",
    "from matplotlib import pyplot\n",
    "import numpy as np\n",
    "import pandas as pd\n",
    "import math\n",
    "\n",
    "# Abrir imagem, converter para escala de cinza e pegar dimensões\n",
    "data = Image.open(\"Y147.jpg\")\n",
    "data = data.convert('L')\n",
    "ny, nx = data.size\n",
    "\n",
    "\n",
    "# Transformar Imagem em array\n",
    "data = np.array(data.getdata()).reshape(data.size[1], data.size[0], 1)\n",
    "print(nx, \" \", ny, \" \", data.size)"
   ]
  },
  {
   "cell_type": "code",
   "execution_count": null,
   "metadata": {},
   "outputs": [],
   "source": [
    "# Primeiros centroids: pixels igualmente espaçados no centro da imagem\n",
    "k = int(input(\"Insert k number of clusters, it must be an integer: \"))\n",
    "i=1\n",
    "centroids = {}\n",
    "coordenate = [0,0]\n",
    "while(i<=k):\n",
    "    c_xo = math.floor(nx/k)\n",
    "    c_yo = math.floor(ny/k)\n",
    "    coordenate[0] = c_xo + c_xo*(i-1)\n",
    "    coordenate[1] = c_yo + c_yo*(i-1)\n",
    "    centroids[i] = [coordenate[1] - 1, coordenate[0] - 1, data[coordenate[0] - 1][coordenate[1] - 1][0]]\n",
    "    i+=1\n",
    "centroids"
   ]
  },
  {
   "cell_type": "code",
   "execution_count": null,
   "metadata": {},
   "outputs": [],
   "source": [
    "# Cria Dataframe para armazenar posição valor e centroid do pixel\n",
    "df_img = pd.DataFrame(columns=[\"pos\", \"value\", \"centroid\"])"
   ]
  },
  {
   "cell_type": "code",
   "execution_count": null,
   "metadata": {},
   "outputs": [],
   "source": [
    "# Define os clusters dos pixels da imagem e atribui os valores ao Dataframe\n",
    "\n",
    "# Nesse caso é considera apenas uma característica o valor do pixel\n",
    "\n",
    "count_2 = 0\n",
    "\n",
    "# Itera sobre o array\n",
    "for row in data:\n",
    "    count_1 = 0\n",
    "    for pixel in row:\n",
    "        lowest_distance = -1\n",
    "        closest_cluster = -1\n",
    "        \n",
    "        # Itera sobre valores dos centroids\n",
    "        for c,values in centroids.items():\n",
    "            \n",
    "            # Calcula distâncias e atribui ao pixel o cluster cuja distância dele ao seu centroid seja miníma\n",
    "            distance = abs(int(pixel) - values[2])\n",
    "            if lowest_distance == -1:\n",
    "                lowest_distance = distance\n",
    "                closest_cluster = c\n",
    "            elif distance < lowest_distance:\n",
    "                lowest_distance = distance\n",
    "                closest_cluster = c\n",
    "                \n",
    "        # Adiciona valores ao Dataframe\n",
    "        df_img = df_img.append({'linha' : count_1, 'coluna' : count_2, 'value' : pixel, 'centroid' : closest_cluster}, \n",
    "                ignore_index = True)\n",
    "        count_1 +=1\n",
    "    count_2 += 1\n",
    "df_img.head()"
   ]
  },
  {
   "cell_type": "code",
   "execution_count": null,
   "metadata": {},
   "outputs": [],
   "source": [
    "df_img[\"centroid\"].value_counts()"
   ]
  },
  {
   "cell_type": "code",
   "execution_count": null,
   "metadata": {},
   "outputs": [],
   "source": [
    "# Faz 10 iterações para achar os clusters finais\n",
    "m=0\n",
    "while m<10:\n",
    "    i=1\n",
    "    centroid = {}\n",
    "    \n",
    "    # Define novos centroids como a média dos valores que compôem o cluester\n",
    "    while i<=k:\n",
    "        centroid[i] = df_img[df_img[\"centroid\"]==i][\"value\"].mean()\n",
    "        i+=1\n",
    "    \n",
    "    # Reatribui os pixels aos centroids com base na distância\n",
    "    for pixel in df_img[\"value\"]:\n",
    "        lowest_distance = -1\n",
    "        closest_cluster = -1\n",
    "        count = 0\n",
    "        for c,values in centroid.items():\n",
    "            distance = abs(pixel[0] - values)\n",
    "            if lowest_distance == -1:\n",
    "                lowest_distance = distance\n",
    "                closest_cluster = c\n",
    "            elif distance < lowest_distance:\n",
    "                lowest_distance = distance\n",
    "                closest_cluster = c\n",
    "        df_img[\"centroid\"][count] = closest_cluster\n",
    "        count += 1\n",
    "    m += 1"
   ]
  },
  {
   "cell_type": "code",
   "execution_count": null,
   "metadata": {},
   "outputs": [],
   "source": [
    "df_img[\"centroid\"].value_counts()"
   ]
  },
  {
   "cell_type": "code",
   "execution_count": null,
   "metadata": {},
   "outputs": [],
   "source": [
    "centroid"
   ]
  },
  {
   "cell_type": "code",
   "execution_count": null,
   "metadata": {
    "scrolled": true
   },
   "outputs": [],
   "source": [
    "# Cria nova imagem onde o valor dos pixels é o valor médio do cluster a que pertencem\n",
    "\n",
    "new_image = Image.new(mode = \"L\", size = (ny,int(nx)), color = 100)\n",
    "for linha, coluna, n_centroid in zip(df_img[\"linha\"],df_img[\"coluna\"], df_img[\"centroid\"]):\n",
    "    for n in range(1,k+1):\n",
    "        if n_centroid == n:\n",
    "            new_image.putpixel((linha, coluna), math.floor(centroid[n_centroid]))\n",
    "new_image"
   ]
  },
  {
   "cell_type": "code",
   "execution_count": null,
   "metadata": {},
   "outputs": [],
   "source": [
    "# Salva a imagem\n",
    "new_image.save(\"Y147.jpeg\", 'jpeg')"
   ]
  }
 ],
 "metadata": {
  "kernelspec": {
   "display_name": "Python 3",
   "language": "python",
   "name": "python3"
  },
  "language_info": {
   "codemirror_mode": {
    "name": "ipython",
    "version": 3
   },
   "file_extension": ".py",
   "mimetype": "text/x-python",
   "name": "python",
   "nbconvert_exporter": "python",
   "pygments_lexer": "ipython3",
   "version": "3.8.5"
  }
 },
 "nbformat": 4,
 "nbformat_minor": 4
}
