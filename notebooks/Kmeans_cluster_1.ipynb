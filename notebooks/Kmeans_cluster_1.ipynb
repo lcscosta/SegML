{
 "cells": [
  {
   "cell_type": "code",
   "execution_count": 2,
   "metadata": {},
   "outputs": [
    {
     "name": "stdout",
     "output_type": "stream",
     "text": [
      "348   287   99876\n"
     ]
    }
   ],
   "source": [
    "# Importar bibliotecas\n",
    "import PIL\n",
    "from PIL import Image\n",
    "from matplotlib import image\n",
    "from matplotlib import pyplot\n",
    "import numpy as np\n",
    "import pandas as pd\n",
    "import math\n",
    "\n",
    "# Abrir imagem, converter para escala de cinza e pegar dimensões\n",
    "data = Image.open(\"Y147.jpg\")\n",
    "data = data.convert('L')\n",
    "ny, nx = data.size\n",
    "\n",
    "\n",
    "# Transformar Imagem em array\n",
    "data = np.array(data.getdata()).reshape(data.size[1], data.size[0], 1)\n",
    "print(nx, \" \", ny, \" \", data.size)"
   ]
  },
  {
   "cell_type": "code",
   "execution_count": 3,
   "metadata": {},
   "outputs": [
    {
     "name": "stdout",
     "output_type": "stream",
     "text": [
      "Insert k number of clusters, it must be an integer: 5\n"
     ]
    },
    {
     "data": {
      "text/plain": [
       "{1: 0, 2: 102.0, 3: 153.0, 4: 204.0, 5: 255.0}"
      ]
     },
     "execution_count": 3,
     "metadata": {},
     "output_type": "execute_result"
    }
   ],
   "source": [
    "# Inicializa os centroides, o valor deles é igualmente distribuido no espaço de 0 a 255 pixels\n",
    "\n",
    "# Pede ao usuário para determinar o número de clusters\n",
    "k = int(input(\"Insert k number of clusters, it must be an integer: \"))\n",
    "i=2\n",
    "centroids = {}\n",
    "coordenate = [0,0]\n",
    "centroids[1] = 0\n",
    "v_pixel = 255/k\n",
    "while(i<=(k)):\n",
    "    centroids[i] = i*v_pixel\n",
    "    i+=1\n",
    "centroids"
   ]
  },
  {
   "cell_type": "code",
   "execution_count": 6,
   "metadata": {},
   "outputs": [],
   "source": [
    "# Cria Dataframe para armazenar posição valor e centroid do pixel\n",
    "df_img = pd.DataFrame(columns=[\"pos\", \"value\", \"centroid\"])"
   ]
  },
  {
   "cell_type": "code",
   "execution_count": 7,
   "metadata": {},
   "outputs": [
    {
     "data": {
      "text/html": [
       "<div>\n",
       "<style scoped>\n",
       "    .dataframe tbody tr th:only-of-type {\n",
       "        vertical-align: middle;\n",
       "    }\n",
       "\n",
       "    .dataframe tbody tr th {\n",
       "        vertical-align: top;\n",
       "    }\n",
       "\n",
       "    .dataframe thead th {\n",
       "        text-align: right;\n",
       "    }\n",
       "</style>\n",
       "<table border=\"1\" class=\"dataframe\">\n",
       "  <thead>\n",
       "    <tr style=\"text-align: right;\">\n",
       "      <th></th>\n",
       "      <th>linha</th>\n",
       "      <th>coluna</th>\n",
       "      <th>value</th>\n",
       "      <th>centroid</th>\n",
       "    </tr>\n",
       "  </thead>\n",
       "  <tbody>\n",
       "    <tr>\n",
       "      <th>0</th>\n",
       "      <td>0</td>\n",
       "      <td>0</td>\n",
       "      <td>0</td>\n",
       "      <td>1</td>\n",
       "    </tr>\n",
       "    <tr>\n",
       "      <th>1</th>\n",
       "      <td>1</td>\n",
       "      <td>0</td>\n",
       "      <td>0</td>\n",
       "      <td>1</td>\n",
       "    </tr>\n",
       "    <tr>\n",
       "      <th>2</th>\n",
       "      <td>2</td>\n",
       "      <td>0</td>\n",
       "      <td>0</td>\n",
       "      <td>1</td>\n",
       "    </tr>\n",
       "    <tr>\n",
       "      <th>3</th>\n",
       "      <td>3</td>\n",
       "      <td>0</td>\n",
       "      <td>0</td>\n",
       "      <td>1</td>\n",
       "    </tr>\n",
       "    <tr>\n",
       "      <th>4</th>\n",
       "      <td>4</td>\n",
       "      <td>0</td>\n",
       "      <td>0</td>\n",
       "      <td>1</td>\n",
       "    </tr>\n",
       "  </tbody>\n",
       "</table>\n",
       "</div>"
      ],
      "text/plain": [
       "  linha coluna value centroid\n",
       "0     0      0     0        1\n",
       "1     1      0     0        1\n",
       "2     2      0     0        1\n",
       "3     3      0     0        1\n",
       "4     4      0     0        1"
      ]
     },
     "execution_count": 7,
     "metadata": {},
     "output_type": "execute_result"
    }
   ],
   "source": [
    "# Define os clusters dos pixels da imagem e atribui os valores ao Dataframe\n",
    "\n",
    "# Nesse caso é considera apenas uma característica o valor do pixel\n",
    "\n",
    "count_2 = 0\n",
    "\n",
    "# Itera sobre o array\n",
    "for row in data:\n",
    "    count_1 = 0\n",
    "    for pixel in row:\n",
    "        lowest_distance = -1\n",
    "        closest_cluster = -1\n",
    "        \n",
    "        # Itera sobre valores dos centroids\n",
    "        for c,values in centroids.items():\n",
    "            \n",
    "            # Calcula distâncias e atribui ao pixel o cluster cuja distância dele ao seu centroid seja miníma\n",
    "            distance = abs(int(pixel) - values[2])\n",
    "            if lowest_distance == -1:\n",
    "                lowest_distance = distance\n",
    "                closest_cluster = c\n",
    "            elif distance < lowest_distance:\n",
    "                lowest_distance = distance\n",
    "                closest_cluster = c\n",
    "                \n",
    "        # Adiciona valores ao Dataframe\n",
    "        df_img = df_img.append({'linha' : count_1, 'coluna' : count_2, 'value' : pixel, 'centroid' : closest_cluster}, \n",
    "                ignore_index = True)\n",
    "        count_1 +=1\n",
    "    count_2 += 1\n",
    "df_img.head()"
   ]
  },
  {
   "cell_type": "code",
   "execution_count": 8,
   "metadata": {},
   "outputs": [
    {
     "data": {
      "text/plain": [
       "2    49592\n",
       "1    44486\n",
       "3     4848\n",
       "4      684\n",
       "5      266\n",
       "Name: centroid, dtype: int64"
      ]
     },
     "execution_count": 8,
     "metadata": {},
     "output_type": "execute_result"
    }
   ],
   "source": [
    "df_img[\"centroid\"].value_counts()"
   ]
  },
  {
   "cell_type": "code",
   "execution_count": 9,
   "metadata": {},
   "outputs": [],
   "source": [
    "# Faz 10 iterações para achar os clusters finais\n",
    "m=0\n",
    "while m<10:\n",
    "    i=1\n",
    "    centroid = {}\n",
    "    \n",
    "    # Define novos centroids como a média dos valores que compôem o cluester\n",
    "    while i<=k:\n",
    "        centroid[i] = df_img[df_img[\"centroid\"]==i][\"value\"].mean()\n",
    "        i+=1\n",
    "    \n",
    "    # Reatribui os pixels aos centroids com base na distância\n",
    "    for pixel in df_img[\"value\"]:\n",
    "        lowest_distance = -1\n",
    "        closest_cluster = -1\n",
    "        count = 0\n",
    "        for c,values in centroid.items():\n",
    "            distance = abs(pixel[0] - values)\n",
    "            if lowest_distance == -1:\n",
    "                lowest_distance = distance\n",
    "                closest_cluster = c\n",
    "            elif distance < lowest_distance:\n",
    "                lowest_distance = distance\n",
    "                closest_cluster = c\n",
    "        df_img[\"centroid\"][count] = closest_cluster\n",
    "        count += 1\n",
    "    m += 1"
   ]
  },
  {
   "cell_type": "code",
   "execution_count": 10,
   "metadata": {},
   "outputs": [
    {
     "data": {
      "text/plain": [
       "2    49592\n",
       "1    44486\n",
       "3     4848\n",
       "4      684\n",
       "5      266\n",
       "Name: centroid, dtype: int64"
      ]
     },
     "execution_count": 10,
     "metadata": {},
     "output_type": "execute_result"
    }
   ],
   "source": [
    "df_img[\"centroid\"].value_counts()"
   ]
  },
  {
   "cell_type": "code",
   "execution_count": 11,
   "metadata": {},
   "outputs": [
    {
     "data": {
      "text/plain": [
       "{1: 10.81171604549746,\n",
       " 2: 77.01046539764478,\n",
       " 3: 141.28114686468646,\n",
       " 4: 206.77923976608187,\n",
       " 5: 238.33834586466165}"
      ]
     },
     "execution_count": 11,
     "metadata": {},
     "output_type": "execute_result"
    }
   ],
   "source": [
    "centroid"
   ]
  },
  {
   "cell_type": "code",
   "execution_count": 13,
   "metadata": {},
   "outputs": [
    {
     "data": {
      "image/png": "[encoded data removed]",
      "text/plain": [
       "<PIL.Image.Image image mode=L size=348x287 at 0x28DAD18FEE0>"
      ]
     },
     "execution_count": 13,
     "metadata": {},
     "output_type": "execute_result"
    }
   ],
   "source": [
    "# Cria nova imagem onde o valor dos pixels é o valor médio do cluster a que pertencem\n",
    "\n",
    "new_image = Image.new(mode = \"L\", size = (ny,int(nx)), color = 100)\n",
    "for linha, coluna, n_centroid in zip(df_img[\"linha\"],df_img[\"coluna\"], df_img[\"centroid\"]):\n",
    "    for n in range(1,k+1):\n",
    "        if n_centroid == n:\n",
    "            new_image.putpixel((linha, coluna), math.floor(centroid[n_centroid]))\n",
    "new_image"
   ]
  },
  {
   "cell_type": "code",
   "execution_count": 14,
   "metadata": {},
   "outputs": [],
   "source": [
    "# Salva a imagem\n",
    "new_image.save(\"Y100K1.jpeg\", 'jpeg')"
   ]
  }
 ],
 "metadata": {
  "kernelspec": {
   "display_name": "Python 3",
   "language": "python",
   "name": "python3"
  },
  "language_info": {
   "codemirror_mode": {
    "name": "ipython",
    "version": 3
   },
   "file_extension": ".py",
   "mimetype": "text/x-python",
   "name": "python",
   "nbconvert_exporter": "python",
   "pygments_lexer": "ipython3",
   "version": "3.8.5"
  }
 },
 "nbformat": 4,
 "nbformat_minor": 4
}
